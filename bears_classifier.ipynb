{
 "cells": [
  {
   "cell_type": "markdown",
   "metadata": {},
   "source": [
    "# What kind of bear is it?\n",
    "Welcome to the bears classifier application!"
   ]
  },
  {
   "cell_type": "code",
   "execution_count": 1,
   "metadata": {},
   "outputs": [],
   "source": [
    "from fastai.vision.all import *\n",
    "from fastai.vision.widgets import *"
   ]
  },
  {
   "cell_type": "code",
   "execution_count": 2,
   "metadata": {},
   "outputs": [],
   "source": [
    "# Model\n",
    "path = Path()\n",
    "assert len(path.ls(file_exts='.pkl')) >= 1\n",
    "\n",
    "model = load_learner(path/'export.pkl')"
   ]
  },
  {
   "cell_type": "markdown",
   "metadata": {},
   "source": [
    "**Upload a bear picture to get its classification!**"
   ]
  },
  {
   "cell_type": "code",
   "execution_count": 4,
   "metadata": {},
   "outputs": [
    {
     "data": {
      "application/vnd.jupyter.widget-view+json": {
       "model_id": "31fd45424ced4b16819e7cb0af4f4cbf",
       "version_major": 2,
       "version_minor": 0
      },
      "text/plain": [
       "VBox(children=(FileUpload(value={}, description='Upload'), Output(), Label(value='')))"
      ]
     },
     "metadata": {},
     "output_type": "display_data"
    }
   ],
   "source": [
    "# GUI\n",
    "upload_button = widgets.FileUpload()\n",
    "output_canvas = widgets.Output()\n",
    "prediction_label = widgets.Label()\n",
    "\n",
    "def classify_image(change):\n",
    "    img = PILImage.create(upload_button.data[-1])\n",
    "    output_canvas.clear_output()\n",
    "    with output_canvas:\n",
    "        display(img.to_thumb(128, 128))\n",
    "    prediction, prediction_index, probabilities = model.predict(img)\n",
    "    prediction_label.value = f'Prediction: {prediction} -- Probability: {probabilities[prediction_index]:.04f}'\n",
    "\n",
    "upload_button.observe(classify_image, names=['data'])\n",
    "\n",
    "VBox([upload_button, output_canvas, prediction_label])"
   ]
  }
 ],
 "metadata": {
  "kernelspec": {
   "display_name": "Python 3 (ipykernel)",
   "language": "python",
   "name": "python3"
  },
  "language_info": {
   "codemirror_mode": {
    "name": "ipython",
    "version": 3
   },
   "file_extension": ".py",
   "mimetype": "text/x-python",
   "name": "python",
   "nbconvert_exporter": "python",
   "pygments_lexer": "ipython3",
   "version": "3.8.5"
  }
 },
 "nbformat": 4,
 "nbformat_minor": 4
}
